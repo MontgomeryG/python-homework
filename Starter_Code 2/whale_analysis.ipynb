{
 "cells": [
  {
   "cell_type": "markdown",
   "metadata": {},
   "source": [
    " #  A Whale off the Port(folio)\n",
    " ---\n",
    "\n",
    " In this assignment, you'll get to use what you've learned this week to evaluate the performance among various algorithmic, hedge, and mutual fund portfolios and compare them against the S&P 500 Index."
   ]
  },
  {
   "cell_type": "code",
   "execution_count": 2,
   "metadata": {},
   "outputs": [],
   "source": [
    "# Initial imports\n",
    "import pandas as pd\n",
    "import numpy as np\n",
    "import datetime as dt\n",
    "from pathlib import Path\n",
    "import matplotlib.pyplot as plt                             #CHAT GPT\n",
    "from matplotlib.dates import MonthLocator, DateFormatter    #CHAT GPT\n",
    "import seaborn as sns\n",
    "\n",
    "%matplotlib inline"
   ]
  },
  {
   "cell_type": "markdown",
   "metadata": {},
   "source": [
    "# Data Cleaning\n",
    "\n",
    "In this section, you will need to read the CSV files into DataFrames and perform any necessary data cleaning steps. After cleaning, combine all DataFrames into a single DataFrame.\n",
    "\n",
    "Files:\n",
    "\n",
    "* `whale_returns.csv`: Contains returns of some famous \"whale\" investors' portfolios.\n",
    "\n",
    "* `algo_returns.csv`: Contains returns from the in-house trading algorithms from Harold's company.\n",
    "\n",
    "* `sp500_history.csv`: Contains historical closing prices of the S&P 500 Index."
   ]
  },
  {
   "cell_type": "markdown",
   "metadata": {},
   "source": [
    "## Whale Returns\n",
    "\n",
    "Read the Whale Portfolio daily returns and clean the data"
   ]
  },
  {
   "cell_type": "code",
   "execution_count": 3,
   "metadata": {},
   "outputs": [
    {
     "name": "stderr",
     "output_type": "stream",
     "text": [
      "/var/folders/tl/pmdc2_wx3hx1zkjc2fzswyyc0000gn/T/ipykernel_88309/2396303863.py:3: FutureWarning: The argument 'infer_datetime_format' is deprecated and will be removed in a future version. A strict version of it is now the default, see https://pandas.pydata.org/pdeps/0004-consistent-to-datetime-parsing.html. You can safely remove this argument.\n",
      "  whale_df = pd.read_csv(whale_csv_path, parse_dates=True, index_col='Date', infer_datetime_format=True)\n"
     ]
    },
    {
     "data": {
      "text/plain": [
       "DatetimeIndex(['2015-03-02', '2015-03-03', '2015-03-04', '2015-03-05',\n",
       "               '2015-03-06', '2015-03-09', '2015-03-10', '2015-03-11',\n",
       "               '2015-03-12', '2015-03-13',\n",
       "               ...\n",
       "               '2019-04-17', '2019-04-18', '2019-04-22', '2019-04-23',\n",
       "               '2019-04-24', '2019-04-25', '2019-04-26', '2019-04-29',\n",
       "               '2019-04-30', '2019-05-01'],\n",
       "              dtype='datetime64[ns]', name='Date', length=1060, freq=None)"
      ]
     },
     "execution_count": 3,
     "metadata": {},
     "output_type": "execute_result"
    }
   ],
   "source": [
    "# Reading whale returns\n",
    "whale_csv_path = Path(\"/Users/montygash/Desktop/FinTechWork/python-homework/Starter_Code 2/Resources/whale_returns.csv\")\n",
    "whale_df = pd.read_csv(whale_csv_path, parse_dates=True, index_col='Date', infer_datetime_format=True)\n",
    "whale_df.index\n",
    "\n"
   ]
  },
  {
   "cell_type": "code",
   "execution_count": 4,
   "metadata": {},
   "outputs": [
    {
     "data": {
      "text/plain": [
       "SOROS FUND MANAGEMENT LLC      0.09434\n",
       "PAULSON & CO.INC.              0.09434\n",
       "TIGER GLOBAL MANAGEMENT LLC    0.09434\n",
       "BERKSHIRE HATHAWAY INC         0.09434\n",
       "dtype: float64"
      ]
     },
     "execution_count": 4,
     "metadata": {},
     "output_type": "execute_result"
    }
   ],
   "source": [
    "# Count nulls\n",
    "whale_df.isnull().mean() * 100"
   ]
  },
  {
   "cell_type": "code",
   "execution_count": 5,
   "metadata": {},
   "outputs": [
    {
     "data": {
      "text/plain": [
       "SOROS FUND MANAGEMENT LLC      0.0\n",
       "PAULSON & CO.INC.              0.0\n",
       "TIGER GLOBAL MANAGEMENT LLC    0.0\n",
       "BERKSHIRE HATHAWAY INC         0.0\n",
       "dtype: float64"
      ]
     },
     "execution_count": 5,
     "metadata": {},
     "output_type": "execute_result"
    }
   ],
   "source": [
    "# Drop nulls\n",
    "whale_df = whale_df.dropna().copy()\n",
    "# CHECK\n",
    "whale_df.isnull().mean()\n"
   ]
  },
  {
   "cell_type": "markdown",
   "metadata": {},
   "source": [
    "## Algorithmic Daily Returns\n",
    "\n",
    "Read the algorithmic daily returns and clean the data"
   ]
  },
  {
   "cell_type": "code",
   "execution_count": 6,
   "metadata": {},
   "outputs": [
    {
     "name": "stdout",
     "output_type": "stream",
     "text": [
      "              Algo 1  Algo 2\n",
      "Date                        \n",
      "2014-05-28  0.001745     NaN\n",
      "2014-05-29  0.003978     NaN\n",
      "2014-05-30  0.004464     NaN\n",
      "2014-06-02  0.005692     NaN\n",
      "2014-06-03  0.005292     NaN\n",
      "              Algo 1    Algo 2\n",
      "Date                          \n",
      "2019-04-25  0.000682 -0.007247\n",
      "2019-04-26  0.002981  0.005256\n",
      "2019-04-29  0.005208  0.002829\n",
      "2019-04-30 -0.002944 -0.001570\n",
      "2019-05-01  0.000094 -0.007358\n"
     ]
    },
    {
     "name": "stderr",
     "output_type": "stream",
     "text": [
      "/var/folders/tl/pmdc2_wx3hx1zkjc2fzswyyc0000gn/T/ipykernel_88309/1480595070.py:3: FutureWarning: The argument 'infer_datetime_format' is deprecated and will be removed in a future version. A strict version of it is now the default, see https://pandas.pydata.org/pdeps/0004-consistent-to-datetime-parsing.html. You can safely remove this argument.\n",
      "  algo_df = pd.read_csv(algo_csv_path, parse_dates=True, index_col='Date', infer_datetime_format=True)\n"
     ]
    }
   ],
   "source": [
    "# Reading algorithmic returns\n",
    "algo_csv_path = Path(\"/Users/montygash/Desktop/FinTechWork/python-homework/Starter_Code 2/Resources/algo_returns.csv\")\n",
    "algo_df = pd.read_csv(algo_csv_path, parse_dates=True, index_col='Date', infer_datetime_format=True)\n",
    "print(algo_df.head())\n",
    "print(algo_df.tail())"
   ]
  },
  {
   "cell_type": "code",
   "execution_count": 7,
   "metadata": {},
   "outputs": [
    {
     "data": {
      "text/plain": [
       "Algo 1    0.000000\n",
       "Algo 2    0.483481\n",
       "dtype: float64"
      ]
     },
     "execution_count": 7,
     "metadata": {},
     "output_type": "execute_result"
    }
   ],
   "source": [
    "# Count nulls\n",
    "algo_df.isnull().mean() * 100"
   ]
  },
  {
   "cell_type": "code",
   "execution_count": 8,
   "metadata": {},
   "outputs": [
    {
     "name": "stdout",
     "output_type": "stream",
     "text": [
      "              Algo 1    Algo 2\n",
      "Date                          \n",
      "2014-06-05  0.004062  0.013285\n",
      "2014-06-06  0.001857  0.008284\n",
      "2014-06-09 -0.005012  0.005668\n",
      "2014-06-10  0.004406 -0.000735\n",
      "2014-06-11  0.004760 -0.003761\n",
      "              Algo 1    Algo 2\n",
      "Date                          \n",
      "2019-04-25  0.000682 -0.007247\n",
      "2019-04-26  0.002981  0.005256\n",
      "2019-04-29  0.005208  0.002829\n",
      "2019-04-30 -0.002944 -0.001570\n",
      "2019-05-01  0.000094 -0.007358\n"
     ]
    }
   ],
   "source": [
    "# Drop nulls\n",
    "algo_df = algo_df.dropna().copy()\n",
    "algo_df.isnull().mean()\n",
    "\n",
    "print(algo_df.head())\n",
    "print(algo_df.tail())"
   ]
  },
  {
   "cell_type": "markdown",
   "metadata": {},
   "source": [
    "## S&P 500 Returns\n",
    "\n",
    "Read the S&P 500 historic closing prices and create a new daily returns DataFrame from the data. "
   ]
  },
  {
   "cell_type": "code",
   "execution_count": 9,
   "metadata": {},
   "outputs": [
    {
     "name": "stderr",
     "output_type": "stream",
     "text": [
      "/var/folders/tl/pmdc2_wx3hx1zkjc2fzswyyc0000gn/T/ipykernel_88309/3624801270.py:3: FutureWarning: The argument 'infer_datetime_format' is deprecated and will be removed in a future version. A strict version of it is now the default, see https://pandas.pydata.org/pdeps/0004-consistent-to-datetime-parsing.html. You can safely remove this argument.\n",
      "  sp500_df = pd.read_csv(sp500_csv_path, parse_dates=True, index_col='Date', infer_datetime_format=True)\n",
      "/var/folders/tl/pmdc2_wx3hx1zkjc2fzswyyc0000gn/T/ipykernel_88309/3624801270.py:3: UserWarning: Could not infer format, so each element will be parsed individually, falling back to `dateutil`. To ensure parsing is consistent and as-expected, please specify a format.\n",
      "  sp500_df = pd.read_csv(sp500_csv_path, parse_dates=True, index_col='Date', infer_datetime_format=True)\n"
     ]
    },
    {
     "data": {
      "text/html": [
       "<div>\n",
       "<style scoped>\n",
       "    .dataframe tbody tr th:only-of-type {\n",
       "        vertical-align: middle;\n",
       "    }\n",
       "\n",
       "    .dataframe tbody tr th {\n",
       "        vertical-align: top;\n",
       "    }\n",
       "\n",
       "    .dataframe thead th {\n",
       "        text-align: right;\n",
       "    }\n",
       "</style>\n",
       "<table border=\"1\" class=\"dataframe\">\n",
       "  <thead>\n",
       "    <tr style=\"text-align: right;\">\n",
       "      <th></th>\n",
       "      <th>Close</th>\n",
       "    </tr>\n",
       "    <tr>\n",
       "      <th>Date</th>\n",
       "      <th></th>\n",
       "    </tr>\n",
       "  </thead>\n",
       "  <tbody>\n",
       "    <tr>\n",
       "      <th>2012-10-01</th>\n",
       "      <td>$1444.49</td>\n",
       "    </tr>\n",
       "    <tr>\n",
       "      <th>2012-10-02</th>\n",
       "      <td>$1445.75</td>\n",
       "    </tr>\n",
       "    <tr>\n",
       "      <th>2012-10-03</th>\n",
       "      <td>$1450.99</td>\n",
       "    </tr>\n",
       "    <tr>\n",
       "      <th>2012-10-04</th>\n",
       "      <td>$1461.40</td>\n",
       "    </tr>\n",
       "    <tr>\n",
       "      <th>2012-10-05</th>\n",
       "      <td>$1460.93</td>\n",
       "    </tr>\n",
       "    <tr>\n",
       "      <th>...</th>\n",
       "      <td>...</td>\n",
       "    </tr>\n",
       "    <tr>\n",
       "      <th>2019-04-16</th>\n",
       "      <td>$2907.06</td>\n",
       "    </tr>\n",
       "    <tr>\n",
       "      <th>2019-04-17</th>\n",
       "      <td>$2900.45</td>\n",
       "    </tr>\n",
       "    <tr>\n",
       "      <th>2019-04-18</th>\n",
       "      <td>$2905.03</td>\n",
       "    </tr>\n",
       "    <tr>\n",
       "      <th>2019-04-22</th>\n",
       "      <td>$2907.97</td>\n",
       "    </tr>\n",
       "    <tr>\n",
       "      <th>2019-04-23</th>\n",
       "      <td>$2933.68</td>\n",
       "    </tr>\n",
       "  </tbody>\n",
       "</table>\n",
       "<p>1649 rows × 1 columns</p>\n",
       "</div>"
      ],
      "text/plain": [
       "               Close\n",
       "Date                \n",
       "2012-10-01  $1444.49\n",
       "2012-10-02  $1445.75\n",
       "2012-10-03  $1450.99\n",
       "2012-10-04  $1461.40\n",
       "2012-10-05  $1460.93\n",
       "...              ...\n",
       "2019-04-16  $2907.06\n",
       "2019-04-17  $2900.45\n",
       "2019-04-18  $2905.03\n",
       "2019-04-22  $2907.97\n",
       "2019-04-23  $2933.68\n",
       "\n",
       "[1649 rows x 1 columns]"
      ]
     },
     "execution_count": 9,
     "metadata": {},
     "output_type": "execute_result"
    }
   ],
   "source": [
    "# Reading S&P 500 Closing Prices\n",
    "sp500_csv_path = Path(\"/Users/montygash/Desktop/FinTechWork/python-homework/Starter_Code 2/Resources/sp500_history.csv\")\n",
    "sp500_df = pd.read_csv(sp500_csv_path, parse_dates=True, index_col='Date', infer_datetime_format=True)\n",
    "sp500_df = sp500_df.sort_values(\"Date\")\n",
    "sp500_df"
   ]
  },
  {
   "cell_type": "code",
   "execution_count": 10,
   "metadata": {},
   "outputs": [
    {
     "name": "stdout",
     "output_type": "stream",
     "text": [
      "SOROS FUND MANAGEMENT LLC      float64\n",
      "PAULSON & CO.INC.              float64\n",
      "TIGER GLOBAL MANAGEMENT LLC    float64\n",
      "BERKSHIRE HATHAWAY INC         float64\n",
      "dtype: object\n",
      "_____\n",
      "Algo 1    float64\n",
      "Algo 2    float64\n",
      "dtype: object\n",
      "_____\n",
      "Close    object\n",
      "dtype: object\n"
     ]
    }
   ],
   "source": [
    "# Check Data Types\n",
    "print(whale_df.dtypes)\n",
    "print(\"_____\")\n",
    "print(algo_df.dtypes)\n",
    "print(\"_____\")\n",
    "print(sp500_df.dtypes)"
   ]
  },
  {
   "cell_type": "code",
   "execution_count": 11,
   "metadata": {},
   "outputs": [
    {
     "data": {
      "text/html": [
       "<div>\n",
       "<style scoped>\n",
       "    .dataframe tbody tr th:only-of-type {\n",
       "        vertical-align: middle;\n",
       "    }\n",
       "\n",
       "    .dataframe tbody tr th {\n",
       "        vertical-align: top;\n",
       "    }\n",
       "\n",
       "    .dataframe thead th {\n",
       "        text-align: right;\n",
       "    }\n",
       "</style>\n",
       "<table border=\"1\" class=\"dataframe\">\n",
       "  <thead>\n",
       "    <tr style=\"text-align: right;\">\n",
       "      <th></th>\n",
       "      <th>Close</th>\n",
       "    </tr>\n",
       "    <tr>\n",
       "      <th>Date</th>\n",
       "      <th></th>\n",
       "    </tr>\n",
       "  </thead>\n",
       "  <tbody>\n",
       "    <tr>\n",
       "      <th>2012-10-01</th>\n",
       "      <td>1444.49</td>\n",
       "    </tr>\n",
       "    <tr>\n",
       "      <th>2012-10-02</th>\n",
       "      <td>1445.75</td>\n",
       "    </tr>\n",
       "    <tr>\n",
       "      <th>2012-10-03</th>\n",
       "      <td>1450.99</td>\n",
       "    </tr>\n",
       "    <tr>\n",
       "      <th>2012-10-04</th>\n",
       "      <td>1461.40</td>\n",
       "    </tr>\n",
       "    <tr>\n",
       "      <th>2012-10-05</th>\n",
       "      <td>1460.93</td>\n",
       "    </tr>\n",
       "  </tbody>\n",
       "</table>\n",
       "</div>"
      ],
      "text/plain": [
       "              Close\n",
       "Date               \n",
       "2012-10-01  1444.49\n",
       "2012-10-02  1445.75\n",
       "2012-10-03  1450.99\n",
       "2012-10-04  1461.40\n",
       "2012-10-05  1460.93"
      ]
     },
     "execution_count": 11,
     "metadata": {},
     "output_type": "execute_result"
    }
   ],
   "source": [
    "# Fix Data Types\n",
    "\n",
    "# REMOVE '$'\n",
    "sp500_df[\"Close\"] = sp500_df[\"Close\"].str.replace(\"$\", \"\")\n",
    "\n",
    "# MAKE 'Close' a float type variable\n",
    "sp500_df[\"Close\"] = sp500_df[\"Close\"].astype(\"float64\")\n",
    "sp500_df.head()"
   ]
  },
  {
   "cell_type": "code",
   "execution_count": 12,
   "metadata": {},
   "outputs": [
    {
     "data": {
      "text/html": [
       "<div>\n",
       "<style scoped>\n",
       "    .dataframe tbody tr th:only-of-type {\n",
       "        vertical-align: middle;\n",
       "    }\n",
       "\n",
       "    .dataframe tbody tr th {\n",
       "        vertical-align: top;\n",
       "    }\n",
       "\n",
       "    .dataframe thead th {\n",
       "        text-align: right;\n",
       "    }\n",
       "</style>\n",
       "<table border=\"1\" class=\"dataframe\">\n",
       "  <thead>\n",
       "    <tr style=\"text-align: right;\">\n",
       "      <th></th>\n",
       "      <th>Close</th>\n",
       "    </tr>\n",
       "    <tr>\n",
       "      <th>Date</th>\n",
       "      <th></th>\n",
       "    </tr>\n",
       "  </thead>\n",
       "  <tbody>\n",
       "    <tr>\n",
       "      <th>2012-10-01</th>\n",
       "      <td>NaN</td>\n",
       "    </tr>\n",
       "    <tr>\n",
       "      <th>2012-10-02</th>\n",
       "      <td>0.000872</td>\n",
       "    </tr>\n",
       "    <tr>\n",
       "      <th>2012-10-03</th>\n",
       "      <td>0.003624</td>\n",
       "    </tr>\n",
       "    <tr>\n",
       "      <th>2012-10-04</th>\n",
       "      <td>0.007174</td>\n",
       "    </tr>\n",
       "    <tr>\n",
       "      <th>2012-10-05</th>\n",
       "      <td>-0.000322</td>\n",
       "    </tr>\n",
       "  </tbody>\n",
       "</table>\n",
       "</div>"
      ],
      "text/plain": [
       "               Close\n",
       "Date                \n",
       "2012-10-01       NaN\n",
       "2012-10-02  0.000872\n",
       "2012-10-03  0.003624\n",
       "2012-10-04  0.007174\n",
       "2012-10-05 -0.000322"
      ]
     },
     "execution_count": 12,
     "metadata": {},
     "output_type": "execute_result"
    }
   ],
   "source": [
    "# Calculate Daily Returns\n",
    "sp500_pct_change_df = sp500_df.pct_change()\n",
    "sp500_pct_change_df.head()\n"
   ]
  },
  {
   "cell_type": "code",
   "execution_count": 13,
   "metadata": {},
   "outputs": [
    {
     "data": {
      "text/plain": [
       "Close    0.0\n",
       "dtype: float64"
      ]
     },
     "execution_count": 13,
     "metadata": {},
     "output_type": "execute_result"
    }
   ],
   "source": [
    "# Drop nulls\n",
    "sp500_pct_change_df = sp500_pct_change_df.dropna().copy()\n",
    "sp500_pct_change_df.isnull().mean() * 100"
   ]
  },
  {
   "cell_type": "code",
   "execution_count": 14,
   "metadata": {},
   "outputs": [
    {
     "name": "stdout",
     "output_type": "stream",
     "text": [
      "            SP500 Daily % Return\n",
      "Date                            \n",
      "2012-10-02              0.000872\n",
      "2012-10-03              0.003624\n",
      "2012-10-04              0.007174\n",
      "2012-10-05             -0.000322\n",
      "2012-10-08             -0.003457\n",
      "            SP500 Daily % Return\n",
      "Date                            \n",
      "2019-04-16              0.000509\n",
      "2019-04-17             -0.002274\n",
      "2019-04-18              0.001579\n",
      "2019-04-22              0.001012\n",
      "2019-04-23              0.008841\n"
     ]
    }
   ],
   "source": [
    "# Rename `Close` Column to be specific to this portfolio.\n",
    "\n",
    "sp500_pct_change_df = sp500_pct_change_df.rename(columns={\"Close\": \"SP500 Daily % Return\"})\n",
    "print(sp500_pct_change_df.head())\n",
    "print(sp500_pct_change_df.tail())"
   ]
  },
  {
   "cell_type": "markdown",
   "metadata": {},
   "source": [
    "## Combine Whale, Algorithmic, and S&P 500 Returns"
   ]
  },
  {
   "cell_type": "code",
   "execution_count": 15,
   "metadata": {},
   "outputs": [
    {
     "data": {
      "text/html": [
       "<div>\n",
       "<style scoped>\n",
       "    .dataframe tbody tr th:only-of-type {\n",
       "        vertical-align: middle;\n",
       "    }\n",
       "\n",
       "    .dataframe tbody tr th {\n",
       "        vertical-align: top;\n",
       "    }\n",
       "\n",
       "    .dataframe thead th {\n",
       "        text-align: right;\n",
       "    }\n",
       "</style>\n",
       "<table border=\"1\" class=\"dataframe\">\n",
       "  <thead>\n",
       "    <tr style=\"text-align: right;\">\n",
       "      <th></th>\n",
       "      <th>SOROS FUND MANAGEMENT LLC</th>\n",
       "      <th>PAULSON &amp; CO.INC.</th>\n",
       "      <th>TIGER GLOBAL MANAGEMENT LLC</th>\n",
       "      <th>BERKSHIRE HATHAWAY INC</th>\n",
       "      <th>Algo 1</th>\n",
       "      <th>Algo 2</th>\n",
       "      <th>SP500 Daily % Return</th>\n",
       "    </tr>\n",
       "    <tr>\n",
       "      <th>Date</th>\n",
       "      <th></th>\n",
       "      <th></th>\n",
       "      <th></th>\n",
       "      <th></th>\n",
       "      <th></th>\n",
       "      <th></th>\n",
       "      <th></th>\n",
       "    </tr>\n",
       "  </thead>\n",
       "  <tbody>\n",
       "    <tr>\n",
       "      <th>2015-03-03</th>\n",
       "      <td>-0.001266</td>\n",
       "      <td>-0.004981</td>\n",
       "      <td>-0.000496</td>\n",
       "      <td>-0.006569</td>\n",
       "      <td>-0.001942</td>\n",
       "      <td>-0.000949</td>\n",
       "      <td>-0.004539</td>\n",
       "    </tr>\n",
       "    <tr>\n",
       "      <th>2015-03-04</th>\n",
       "      <td>0.002230</td>\n",
       "      <td>0.003241</td>\n",
       "      <td>-0.002534</td>\n",
       "      <td>0.004213</td>\n",
       "      <td>-0.008589</td>\n",
       "      <td>0.002416</td>\n",
       "      <td>-0.004389</td>\n",
       "    </tr>\n",
       "    <tr>\n",
       "      <th>2015-03-05</th>\n",
       "      <td>0.004016</td>\n",
       "      <td>0.004076</td>\n",
       "      <td>0.002355</td>\n",
       "      <td>0.006726</td>\n",
       "      <td>-0.000955</td>\n",
       "      <td>0.004323</td>\n",
       "      <td>0.001196</td>\n",
       "    </tr>\n",
       "    <tr>\n",
       "      <th>2015-03-06</th>\n",
       "      <td>-0.007905</td>\n",
       "      <td>-0.003574</td>\n",
       "      <td>-0.008481</td>\n",
       "      <td>-0.013098</td>\n",
       "      <td>-0.004957</td>\n",
       "      <td>-0.011460</td>\n",
       "      <td>-0.014174</td>\n",
       "    </tr>\n",
       "    <tr>\n",
       "      <th>2015-03-09</th>\n",
       "      <td>0.000582</td>\n",
       "      <td>0.004225</td>\n",
       "      <td>0.005843</td>\n",
       "      <td>-0.001652</td>\n",
       "      <td>-0.005447</td>\n",
       "      <td>0.001303</td>\n",
       "      <td>0.003944</td>\n",
       "    </tr>\n",
       "  </tbody>\n",
       "</table>\n",
       "</div>"
      ],
      "text/plain": [
       "            SOROS FUND MANAGEMENT LLC  PAULSON & CO.INC.   \\\n",
       "Date                                                        \n",
       "2015-03-03                  -0.001266           -0.004981   \n",
       "2015-03-04                   0.002230            0.003241   \n",
       "2015-03-05                   0.004016            0.004076   \n",
       "2015-03-06                  -0.007905           -0.003574   \n",
       "2015-03-09                   0.000582            0.004225   \n",
       "\n",
       "            TIGER GLOBAL MANAGEMENT LLC  BERKSHIRE HATHAWAY INC    Algo 1  \\\n",
       "Date                                                                        \n",
       "2015-03-03                    -0.000496               -0.006569 -0.001942   \n",
       "2015-03-04                    -0.002534                0.004213 -0.008589   \n",
       "2015-03-05                     0.002355                0.006726 -0.000955   \n",
       "2015-03-06                    -0.008481               -0.013098 -0.004957   \n",
       "2015-03-09                     0.005843               -0.001652 -0.005447   \n",
       "\n",
       "              Algo 2  SP500 Daily % Return  \n",
       "Date                                        \n",
       "2015-03-03 -0.000949             -0.004539  \n",
       "2015-03-04  0.002416             -0.004389  \n",
       "2015-03-05  0.004323              0.001196  \n",
       "2015-03-06 -0.011460             -0.014174  \n",
       "2015-03-09  0.001303              0.003944  "
      ]
     },
     "execution_count": 15,
     "metadata": {},
     "output_type": "execute_result"
    }
   ],
   "source": [
    "# Join Whale Returns, Algorithmic Returns, and the S&P 500 Returns into a single DataFrame with columns for each portfolio's returns.\n",
    "combined_df = pd.concat([whale_df, algo_df, sp500_pct_change_df], axis=1, join=\"inner\")\n",
    "combined_df.head()"
   ]
  },
  {
   "cell_type": "markdown",
   "metadata": {},
   "source": [
    "---"
   ]
  },
  {
   "cell_type": "markdown",
   "metadata": {},
   "source": [
    "# Conduct Quantitative Analysis\n",
    "\n",
    "In this section, you will calculate and visualize performance and risk metrics for the portfolios."
   ]
  },
  {
   "cell_type": "markdown",
   "metadata": {},
   "source": [
    "## Performance Anlysis\n",
    "\n",
    "#### Calculate and Plot the daily returns."
   ]
  },
  {
   "cell_type": "code",
   "execution_count": 16,
   "metadata": {},
   "outputs": [
    {
     "data": {
      "text/plain": [
       "[<Axes: title={'center': 'SP500 Daily % Return'}, xlabel='Date'>,\n",
       " <Axes: title={'center': 'SP500 Daily % Return'}, xlabel='Date'>,\n",
       " <Axes: title={'center': 'SP500 Daily % Return'}, xlabel='Date'>,\n",
       " <Axes: title={'center': 'SP500 Daily % Return'}, xlabel='Date'>,\n",
       " <Axes: title={'center': 'SP500 Daily % Return'}, xlabel='Date'>,\n",
       " <Axes: title={'center': 'SP500 Daily % Return'}, xlabel='Date'>,\n",
       " <Axes: title={'center': 'SP500 Daily % Return'}, xlabel='Date'>]"
      ]
     },
     "execution_count": 16,
     "metadata": {},
     "output_type": "execute_result"
    },
    {
     "data": {
      "image/png": "[encoded data removed]",
      "text/plain": [
       "<Figure size 640x480 with 1 Axes>"
      ]
     },
     "metadata": {},
     "output_type": "display_data"
    }
   ],
   "source": [
    "# Plot daily returns of all portfolios\n",
    "#whale_df = whale_df.groupby([whale_df.index.year, whale_df.index.month, whale_df.index.day])\n",
    "#company = ''\n",
    "#for company in combined_df():  HOW TO ITERATE TO MAKE THIS CLEANER... THE PLOTING EACH GRAPH... AND, DO I JUST PLOT THEM ON TOP OF EACH OTHER?\n",
    "#FROM GPT:\n",
    "        #import matplotlib.pyplot as plt\n",
    "\n",
    "# Assuming you have a list of column names you want to plot\n",
    "#columns_to_plot = ['BERKSHIRE HATHAWAY INC', 'Soros Fund Management LLC', 'PAULSON & CO.INC.', 'TIGER GLOBAL MANAGEMENT LLC']\n",
    "\n",
    "# Create a bar plot for each column\n",
    "#for column in columns_to_plot:\n",
    " #   plt.figure()  # Create a new figure for each plot\n",
    "  #  combined_df[column].plot(kind='bar')\n",
    "   # plt.title(column)  # Set the title to the column name\n",
    "\n",
    "# Show all the plots together\n",
    "#plt.show()\n",
    "\n",
    "returns_plot_list = []  # i want to save the plots into a list so that I can easily access them later\n",
    "\n",
    "\n",
    "for column in combined_df:\n",
    "    new_plot = combined_df[column].plot(kind='bar', title=column)\n",
    "    returns_plot_list.append(new_plot)\n",
    "\n",
    "returns_plot_list\n",
    "\n",
    "\n",
    "\n",
    "#berk_plot = combined_df['BERKSHIRE HATHAWAY INC'].plot(kind='bar')\n",
    "#soros_plot = combined_df['BERKSHIRE HATHAWAY INC'].plot(kind='bar')\n",
    "#paulson_plot = combined_df['PAULSON & CO.INC. '].plot(kind='bar')\n",
    "#tiger_plot = combined_df['TIGER GLOBAL MANAGEMENT LLC'].plot(kind='bar')\n",
    "#berk_plot = whale_df['BERKSHIRE HATHAWAY INC'].plot(kind='bar', figsize=(20,20))\n",
    "#berk_plot.xaxis.set_major_locator(MonthLocator())                   #CHAT GPT\n",
    "#berk_plot.xaxis.set_major_formatter(DateFormatter(\"%b %Y\"))         #CHAT GPT\n",
    "\n",
    "#algo1_plot = combined_df['Algo 1'].plot(kind='bar')\n",
    "\n",
    "#algo2_plot = combined_df['Algo 2'].plot(kind='bar')\n",
    "#algo_plot = algo_df['Algo 1'].plot(kind='bar', figsize=(20,20))\n",
    "#algo_plot.xaxis.set_major_locator(MonthLocator())                   #CHAT GPT\n",
    "#algo_plot.xaxis.set_major_formatter(DateFormatter(\"%b %Y\"))         #CHAT GPT\n",
    "\n",
    "#sp500_plot = combined_df['SP500 Daily % Return'].plot(kind='bar')\n",
    "#sp500_plot = sp500_pct_change_df['SP500 Daily % Return'].plot(kind='bar,', figsize=(20,20));\n",
    "\n"
   ]
  },
  {
   "cell_type": "markdown",
   "metadata": {},
   "source": [
    "#### Calculate and Plot cumulative returns."
   ]
  },
  {
   "cell_type": "code",
   "execution_count": 17,
   "metadata": {},
   "outputs": [
    {
     "name": "stdout",
     "output_type": "stream",
     "text": [
      "Date\n",
      "2015-03-03    0.995461\n",
      "2015-03-04    0.991093\n",
      "2015-03-05    0.992278\n",
      "2015-03-06    0.978214\n",
      "2015-03-09    0.982072\n",
      "                ...   \n",
      "2019-04-16    1.372945\n",
      "2019-04-17    1.369823\n",
      "2019-04-18    1.371986\n",
      "2019-04-22    1.373375\n",
      "2019-04-23    1.385517\n",
      "Name: SP500 Daily % Return, Length: 1043, dtype: float64\n",
      "Date\n",
      "2015-03-03    0.993431\n",
      "2015-03-04    0.997617\n",
      "2015-03-05    1.004327\n",
      "2015-03-06    0.991172\n",
      "2015-03-09    0.989534\n",
      "                ...   \n",
      "2019-04-16    1.526861\n",
      "2019-04-17    1.531781\n",
      "2019-04-18    1.534716\n",
      "2019-04-22    1.533046\n",
      "2019-04-23    1.553401\n",
      "Name: BERKSHIRE HATHAWAY INC, Length: 1043, dtype: float64\n"
     ]
    },
    {
     "data": {
      "image/png": "[encoded data removed]",
      "text/plain": [
       "<Figure size 640x480 with 1 Axes>"
      ]
     },
     "metadata": {},
     "output_type": "display_data"
    }
   ],
   "source": [
    "# Calculate cumulative returns of all portfolios\n",
    "\n",
    "#cumulative_returns = (1 + daily_returns).cumprod()\n",
    "\n",
    "sp500_cuml_returns = (1 + combined_df['SP500 Daily % Return']).cumprod()\n",
    "\n",
    "\n",
    "berk_cuml_returns = (1 + combined_df['BERKSHIRE HATHAWAY INC']).cumprod()\n",
    "\n",
    "print(sp500_cuml_returns)\n",
    "print(berk_cuml_returns)\n",
    "# Plot cumulative returns\n",
    "\n",
    "sp500_cuml_plot = sp500_cuml_returns.plot(kind='bar')\n",
    "ber_cuml_plot = berk_cuml_returns.plot(kind='bar')\n"
   ]
  },
  {
   "cell_type": "markdown",
   "metadata": {},
   "source": [
    "---"
   ]
  },
  {
   "cell_type": "markdown",
   "metadata": {},
   "source": [
    "## Risk Analysis\n",
    "\n",
    "Determine the _risk_ of each portfolio:\n",
    "\n",
    "1. Create a box plot for each portfolio. \n",
    "2. Calculate the standard deviation for all portfolios\n",
    "4. Determine which portfolios are riskier than the S&P 500\n",
    "5. Calculate the Annualized Standard Deviation"
   ]
  },
  {
   "cell_type": "markdown",
   "metadata": {},
   "source": [
    "### Create a box plot for each portfolio\n"
   ]
  },
  {
   "cell_type": "code",
   "execution_count": 48,
   "metadata": {},
   "outputs": [
    {
     "data": {
      "image/png": "[encoded data removed]",
      "text/plain": [
       "<Figure size 640x480 with 1 Axes>"
      ]
     },
     "metadata": {},
     "output_type": "display_data"
    }
   ],
   "source": [
    "# Box plot to visually show risk\n",
    "\n",
    "\n",
    "# I AM GETTING AN ERROR WHEN I RUN BOTH OF THEM???\n",
    "sp500_box_plot = combined_df['SP500 Daily % Return'].plot(kind='box')\n",
    "\n",
    "#berk_box_plot = combined_df['BERKSHIRE HATHAWAY INC'].plot(kind='box')\n"
   ]
  },
  {
   "cell_type": "markdown",
   "metadata": {},
   "source": [
    "### Calculate Standard Deviations"
   ]
  },
  {
   "cell_type": "code",
   "execution_count": 67,
   "metadata": {},
   "outputs": [
    {
     "data": {
      "text/plain": [
       "SOROS FUND MANAGEMENT LLC      0.007895\n",
       "PAULSON & CO.INC.              0.007023\n",
       "TIGER GLOBAL MANAGEMENT LLC    0.010894\n",
       "BERKSHIRE HATHAWAY INC         0.012919\n",
       "Algo 1                         0.007620\n",
       "Algo 2                         0.008342\n",
       "SP500 Daily % Return           0.008554\n",
       "dtype: float64"
      ]
     },
     "execution_count": 67,
     "metadata": {},
     "output_type": "execute_result"
    }
   ],
   "source": [
    "# Calculate the daily standard deviations of all portfolios\n",
    "all_returns_sd = combined_df.std()\n",
    "all_returns_sd"
   ]
  },
  {
   "cell_type": "markdown",
   "metadata": {},
   "source": [
    "### Determine which portfolios are riskier than the S&P 500"
   ]
  },
  {
   "cell_type": "code",
   "execution_count": 51,
   "metadata": {},
   "outputs": [
    {
     "data": {
      "text/plain": [
       "0.008553731597758204"
      ]
     },
     "execution_count": 51,
     "metadata": {},
     "output_type": "execute_result"
    }
   ],
   "source": [
    "# Calculate  the daily standard deviation of S&P 500\n",
    "\n",
    "#WHAT DO YOU MEAN BY DAILY STD?\n",
    "\n",
    "#combined_df['SP500 Daily % Return'].std()\n",
    "\n",
    "\n",
    "# Determine which portfolios are riskier than the S&P 500\n"
   ]
  },
  {
   "cell_type": "markdown",
   "metadata": {},
   "source": [
    "### Calculate the Annualized Standard Deviation"
   ]
  },
  {
   "cell_type": "code",
   "execution_count": 68,
   "metadata": {},
   "outputs": [
    {
     "data": {
      "text/plain": [
       "SOROS FUND MANAGEMENT LLC      0.125335\n",
       "PAULSON & CO.INC.              0.111488\n",
       "TIGER GLOBAL MANAGEMENT LLC    0.172936\n",
       "BERKSHIRE HATHAWAY INC         0.205077\n",
       "Algo 1                         0.120967\n",
       "Algo 2                         0.132430\n",
       "SP500 Daily % Return           0.135786\n",
       "dtype: float64"
      ]
     },
     "execution_count": 68,
     "metadata": {},
     "output_type": "execute_result"
    }
   ],
   "source": [
    "# Calculate the annualized standard deviation (252 trading days)\n",
    "#combined_df['SP500 Daily % Return'].rolling(window=252).std()\n",
    "all_std_annual = all_returns_sd * np.sqrt(252)\n",
    "all_std_annual\n"
   ]
  },
  {
   "cell_type": "markdown",
   "metadata": {},
   "source": [
    "---"
   ]
  },
  {
   "cell_type": "markdown",
   "metadata": {},
   "source": [
    "## Rolling Statistics\n",
    "\n",
    "Risk changes over time. Analyze the rolling statistics for Risk and Beta. \n",
    "\n",
    "1. Calculate and plot the rolling standard deviation for all portfolios using a 21-day window\n",
    "2. Calculate the correlation between each stock to determine which portfolios may mimick the S&P 500\n",
    "3. Choose one portfolio, then calculate and plot the 60-day rolling beta between it and the S&P 500"
   ]
  },
  {
   "cell_type": "markdown",
   "metadata": {},
   "source": [
    "### Calculate and plot rolling `std` for all portfolios with 21-day window"
   ]
  },
  {
   "cell_type": "code",
   "execution_count": 55,
   "metadata": {},
   "outputs": [
    {
     "data": {
      "text/plain": [
       "<Axes: xlabel='Date'>"
      ]
     },
     "execution_count": 55,
     "metadata": {},
     "output_type": "execute_result"
    },
    {
     "data": {
      "image/png": "[encoded data removed]",
      "text/plain": [
       "<Figure size 640x480 with 1 Axes>"
      ]
     },
     "metadata": {},
     "output_type": "display_data"
    }
   ],
   "source": [
    "# Calculate the rolling standard deviation for all portfolios using a 21-day window\n",
    "sp500_rolling_std = combined_df['SP500 Daily % Return'].rolling(window=21).std()\n",
    "\n",
    "#sp500_rolling_std = sp500_returns_sd.rolling(window=21)\n",
    "    # ^^ DOESN'T WORK BECAUSE WE ARE TRYING TO USE 'rolling' ON A FLOAT. \n",
    "\n",
    "\n",
    "# Plot the rolling standard deviation\n",
    "sp500_rolling_std.plot()"
   ]
  },
  {
   "cell_type": "markdown",
   "metadata": {},
   "source": [
    "### Calculate and plot the correlation"
   ]
  },
  {
   "cell_type": "code",
   "execution_count": 69,
   "metadata": {},
   "outputs": [
    {
     "data": {
      "text/plain": [
       "<Axes: >"
      ]
     },
     "execution_count": 69,
     "metadata": {},
     "output_type": "execute_result"
    },
    {
     "data": {
      "image/png": "[encoded data removed]",
      "text/plain": [
       "<Figure size 640x480 with 2 Axes>"
      ]
     },
     "metadata": {},
     "output_type": "display_data"
    }
   ],
   "source": [
    "# Calculate the correlation\n",
    "all_correlation = combined_df.corr()\n",
    "# Display de correlation matrix\n",
    "sns.heatmap(all_correlation, vmin=-1, vmax=1)"
   ]
  },
  {
   "cell_type": "markdown",
   "metadata": {},
   "source": [
    "### Calculate and Plot Beta for a chosen portfolio and the S&P 500"
   ]
  },
  {
   "cell_type": "code",
   "execution_count": 64,
   "metadata": {},
   "outputs": [
    {
     "ename": "AttributeError",
     "evalue": "'numpy.float64' object has no attribute 'plot'",
     "output_type": "error",
     "traceback": [
      "\u001b[0;31m---------------------------------------------------------------------------\u001b[0m",
      "\u001b[0;31mAttributeError\u001b[0m                            Traceback (most recent call last)",
      "\u001b[1;32m/Users/montygash/Desktop/FinTechWork/python-homework/Starter_Code 2/whale_analysis.ipynb Cell 44\u001b[0m line \u001b[0;36m1\n\u001b[1;32m     <a href='vscode-notebook-cell:/Users/montygash/Desktop/FinTechWork/python-homework/Starter_Code%202/whale_analysis.ipynb#X61sZmlsZQ%3D%3D?line=12'>13</a>\u001b[0m berk_beta \u001b[39m=\u001b[39m (berk_var \u001b[39m/\u001b[39m sp500_var)\n\u001b[1;32m     <a href='vscode-notebook-cell:/Users/montygash/Desktop/FinTechWork/python-homework/Starter_Code%202/whale_analysis.ipynb#X61sZmlsZQ%3D%3D?line=14'>15</a>\u001b[0m \u001b[39m# Plot beta trend\u001b[39;00m\n\u001b[0;32m---> <a href='vscode-notebook-cell:/Users/montygash/Desktop/FinTechWork/python-homework/Starter_Code%202/whale_analysis.ipynb#X61sZmlsZQ%3D%3D?line=16'>17</a>\u001b[0m berk_beta\u001b[39m.\u001b[39mplot()\n",
      "\u001b[0;31mAttributeError\u001b[0m: 'numpy.float64' object has no attribute 'plot'"
     ]
    }
   ],
   "source": [
    "# Calculate covariance of a single portfolio\n",
    "\n",
    "## COVARIANCE OF A SINGLE PORTFOLIO WITH WHAT ELSE? HOW MUCH IT COVARIES WITH ALL OTHER PORTFOLIOS IN GENERAL?\n",
    "berk_var = combined_df['BERKSHIRE HATHAWAY INC'].cov(combined_df['BERKSHIRE HATHAWAY INC'])\n",
    "\n",
    "# Calculate variance of S&P 500\n",
    "sp500_var = combined_df['SP500 Daily % Return'].var()\n",
    "\n",
    "\n",
    "# Computing beta\n",
    "#amzn_beta = covariance / variance_mkt\n",
    "\n",
    "berk_beta = (berk_var / sp500_var)\n",
    "\n",
    "# Plot beta trend\n",
    "\n",
    "\n"
   ]
  },
  {
   "cell_type": "markdown",
   "metadata": {},
   "source": [
    "## Rolling Statistics Challenge: Exponentially Weighted Average \n",
    "\n",
    "An alternative way to calculate a rolling window is to take the exponentially weighted moving average. This is like a moving window average, but it assigns greater importance to more recent observations. Try calculating the [`ewm`](https://pandas.pydata.org/pandas-docs/stable/reference/api/pandas.DataFrame.ewm.html) with a 21-day half life for each portfolio, using standard deviation (`std`) as the metric of interest."
   ]
  },
  {
   "cell_type": "code",
   "execution_count": 25,
   "metadata": {},
   "outputs": [],
   "source": [
    "# Use `ewm` to calculate the rolling window\n"
   ]
  },
  {
   "cell_type": "markdown",
   "metadata": {},
   "source": [
    "---"
   ]
  },
  {
   "cell_type": "markdown",
   "metadata": {},
   "source": [
    "# Sharpe Ratios\n",
    "In reality, investment managers and thier institutional investors look at the ratio of return-to-risk, and not just returns alone. After all, if you could invest in one of two portfolios, and each offered the same 10% return, yet one offered lower risk, you'd take that one, right?\n",
    "\n",
    "### Using the daily returns, calculate and visualize the Sharpe ratios using a bar plot"
   ]
  },
  {
   "cell_type": "code",
   "execution_count": 26,
   "metadata": {},
   "outputs": [],
   "source": [
    "# Annualized Sharpe Ratios\n",
    "\n",
    "\n"
   ]
  },
  {
   "cell_type": "code",
   "execution_count": 27,
   "metadata": {},
   "outputs": [],
   "source": [
    "# Visualize the sharpe ratios as a bar plot\n"
   ]
  },
  {
   "cell_type": "markdown",
   "metadata": {},
   "source": [
    "### Determine whether the algorithmic strategies outperform both the market (S&P 500) and the whales portfolios.\n",
    "\n",
    "Write your answer here!"
   ]
  },
  {
   "cell_type": "markdown",
   "metadata": {},
   "source": [
    "---"
   ]
  },
  {
   "cell_type": "markdown",
   "metadata": {},
   "source": [
    "# Create Custom Portfolio\n",
    "\n",
    "In this section, you will build your own portfolio of stocks, calculate the returns, and compare the results to the Whale Portfolios and the S&P 500. \n",
    "\n",
    "1. Choose 3-5 custom stocks with at last 1 year's worth of historic prices and create a DataFrame of the closing prices and dates for each stock.\n",
    "2. Calculate the weighted returns for the portfolio assuming an equal number of shares for each stock\n",
    "3. Join your portfolio returns to the DataFrame that contains all of the portfolio returns\n",
    "4. Re-run the performance and risk analysis with your portfolio to see how it compares to the others\n",
    "5. Include correlation analysis to determine which stocks (if any) are correlated"
   ]
  },
  {
   "cell_type": "markdown",
   "metadata": {},
   "source": [
    "## Choose 3-5 custom stocks with at last 1 year's worth of historic prices and create a DataFrame of the closing prices and dates for each stock."
   ]
  },
  {
   "cell_type": "code",
   "execution_count": 71,
   "metadata": {},
   "outputs": [],
   "source": [
    "# Initial imports\n",
    "import os\n",
    "import requests\n",
    "from dotenv import load_dotenv\n",
    "import alpaca_trade_api as tradeapi\n",
    "\n",
    "\n"
   ]
  },
  {
   "cell_type": "code",
   "execution_count": 72,
   "metadata": {},
   "outputs": [
    {
     "data": {
      "text/plain": [
       "True"
      ]
     },
     "execution_count": 72,
     "metadata": {},
     "output_type": "execute_result"
    }
   ],
   "source": [
    "# Load .env environment variables\n",
    "load_dotenv()"
   ]
  },
  {
   "cell_type": "code",
   "execution_count": 73,
   "metadata": {},
   "outputs": [],
   "source": [
    "# Set Alpaca API key and secret\n",
    "alpaca_api_key = os.getenv(\"ALPACA_API_KEY\")\n",
    "alpaca_secret_key = os.getenv(\"ALPACA_SECRET_KEY\")"
   ]
  },
  {
   "cell_type": "code",
   "execution_count": 74,
   "metadata": {},
   "outputs": [
    {
     "name": "stdout",
     "output_type": "stream",
     "text": [
      "Alpaca Key type: <class 'str'>\n",
      "Alpaca Secret Key type: <class 'str'>\n"
     ]
    }
   ],
   "source": [
    "# Verify that Alpaca key and secret were correctly loaded\n",
    "print(f\"Alpaca Key type: {type(alpaca_api_key)}\")\n",
    "print(f\"Alpaca Secret Key type: {type(alpaca_secret_key)}\")"
   ]
  },
  {
   "cell_type": "code",
   "execution_count": 75,
   "metadata": {},
   "outputs": [],
   "source": [
    "# Create the Alpaca API object\n",
    "alpaca = tradeapi.REST(\n",
    "    alpaca_api_key,\n",
    "    alpaca_secret_key,\n",
    "    api_version=\"v2\")"
   ]
  },
  {
   "cell_type": "code",
   "execution_count": 77,
   "metadata": {},
   "outputs": [],
   "source": [
    "# Format current date as ISO format\n",
    "end = pd.Timestamp(\"2023-10-12\", tz=\"America/New_York\").isoformat()\n",
    "start = pd.Timestamp(\"2022-10-12\", tz=\"America/New_York\").isoformat()"
   ]
  },
  {
   "cell_type": "code",
   "execution_count": 82,
   "metadata": {},
   "outputs": [],
   "source": [
    "# Set the tickers\n",
    "tickers = [\"OM\", \"HRMY\", \"PMVP\", \"SAVA\", \"SLAB\"]"
   ]
  },
  {
   "cell_type": "code",
   "execution_count": 83,
   "metadata": {},
   "outputs": [],
   "source": [
    "# Set timeframe to one day (\"1Day\") for the Alpaca API\n",
    "timeframe = \"1Day\""
   ]
  },
  {
   "cell_type": "code",
   "execution_count": 84,
   "metadata": {},
   "outputs": [
    {
     "data": {
      "text/html": [
       "<div>\n",
       "<style scoped>\n",
       "    .dataframe tbody tr th:only-of-type {\n",
       "        vertical-align: middle;\n",
       "    }\n",
       "\n",
       "    .dataframe tbody tr th {\n",
       "        vertical-align: top;\n",
       "    }\n",
       "\n",
       "    .dataframe thead th {\n",
       "        text-align: right;\n",
       "    }\n",
       "</style>\n",
       "<table border=\"1\" class=\"dataframe\">\n",
       "  <thead>\n",
       "    <tr style=\"text-align: right;\">\n",
       "      <th></th>\n",
       "      <th>close</th>\n",
       "      <th>high</th>\n",
       "      <th>low</th>\n",
       "      <th>trade_count</th>\n",
       "      <th>open</th>\n",
       "      <th>volume</th>\n",
       "      <th>vwap</th>\n",
       "      <th>symbol</th>\n",
       "    </tr>\n",
       "    <tr>\n",
       "      <th>timestamp</th>\n",
       "      <th></th>\n",
       "      <th></th>\n",
       "      <th></th>\n",
       "      <th></th>\n",
       "      <th></th>\n",
       "      <th></th>\n",
       "      <th></th>\n",
       "      <th></th>\n",
       "    </tr>\n",
       "  </thead>\n",
       "  <tbody>\n",
       "    <tr>\n",
       "      <th>2022-10-12 04:00:00+00:00</th>\n",
       "      <td>46.64</td>\n",
       "      <td>48.190</td>\n",
       "      <td>46.435</td>\n",
       "      <td>8916</td>\n",
       "      <td>47.80</td>\n",
       "      <td>354276</td>\n",
       "      <td>47.242157</td>\n",
       "      <td>HRMY</td>\n",
       "    </tr>\n",
       "    <tr>\n",
       "      <th>2022-10-13 04:00:00+00:00</th>\n",
       "      <td>47.63</td>\n",
       "      <td>47.835</td>\n",
       "      <td>43.960</td>\n",
       "      <td>7181</td>\n",
       "      <td>45.69</td>\n",
       "      <td>538904</td>\n",
       "      <td>47.092565</td>\n",
       "      <td>HRMY</td>\n",
       "    </tr>\n",
       "    <tr>\n",
       "      <th>2022-10-14 04:00:00+00:00</th>\n",
       "      <td>51.07</td>\n",
       "      <td>51.670</td>\n",
       "      <td>47.540</td>\n",
       "      <td>17814</td>\n",
       "      <td>49.58</td>\n",
       "      <td>999595</td>\n",
       "      <td>50.423185</td>\n",
       "      <td>HRMY</td>\n",
       "    </tr>\n",
       "    <tr>\n",
       "      <th>2022-10-17 04:00:00+00:00</th>\n",
       "      <td>49.46</td>\n",
       "      <td>52.515</td>\n",
       "      <td>49.090</td>\n",
       "      <td>11507</td>\n",
       "      <td>51.69</td>\n",
       "      <td>495121</td>\n",
       "      <td>50.026639</td>\n",
       "      <td>HRMY</td>\n",
       "    </tr>\n",
       "    <tr>\n",
       "      <th>2022-10-18 04:00:00+00:00</th>\n",
       "      <td>51.21</td>\n",
       "      <td>51.890</td>\n",
       "      <td>49.815</td>\n",
       "      <td>9501</td>\n",
       "      <td>50.14</td>\n",
       "      <td>433888</td>\n",
       "      <td>51.056973</td>\n",
       "      <td>HRMY</td>\n",
       "    </tr>\n",
       "    <tr>\n",
       "      <th>...</th>\n",
       "      <td>...</td>\n",
       "      <td>...</td>\n",
       "      <td>...</td>\n",
       "      <td>...</td>\n",
       "      <td>...</td>\n",
       "      <td>...</td>\n",
       "      <td>...</td>\n",
       "      <td>...</td>\n",
       "    </tr>\n",
       "    <tr>\n",
       "      <th>2023-10-06 04:00:00+00:00</th>\n",
       "      <td>115.12</td>\n",
       "      <td>115.800</td>\n",
       "      <td>112.040</td>\n",
       "      <td>6348</td>\n",
       "      <td>112.78</td>\n",
       "      <td>222851</td>\n",
       "      <td>114.945410</td>\n",
       "      <td>SLAB</td>\n",
       "    </tr>\n",
       "    <tr>\n",
       "      <th>2023-10-09 04:00:00+00:00</th>\n",
       "      <td>114.26</td>\n",
       "      <td>115.150</td>\n",
       "      <td>112.895</td>\n",
       "      <td>6619</td>\n",
       "      <td>113.75</td>\n",
       "      <td>203272</td>\n",
       "      <td>114.282031</td>\n",
       "      <td>SLAB</td>\n",
       "    </tr>\n",
       "    <tr>\n",
       "      <th>2023-10-10 04:00:00+00:00</th>\n",
       "      <td>116.66</td>\n",
       "      <td>117.480</td>\n",
       "      <td>114.320</td>\n",
       "      <td>5410</td>\n",
       "      <td>114.81</td>\n",
       "      <td>165045</td>\n",
       "      <td>116.639072</td>\n",
       "      <td>SLAB</td>\n",
       "    </tr>\n",
       "    <tr>\n",
       "      <th>2023-10-11 04:00:00+00:00</th>\n",
       "      <td>116.06</td>\n",
       "      <td>117.050</td>\n",
       "      <td>115.200</td>\n",
       "      <td>5441</td>\n",
       "      <td>116.60</td>\n",
       "      <td>167248</td>\n",
       "      <td>115.912367</td>\n",
       "      <td>SLAB</td>\n",
       "    </tr>\n",
       "    <tr>\n",
       "      <th>2023-10-12 04:00:00+00:00</th>\n",
       "      <td>114.78</td>\n",
       "      <td>116.175</td>\n",
       "      <td>113.500</td>\n",
       "      <td>7446</td>\n",
       "      <td>116.00</td>\n",
       "      <td>201080</td>\n",
       "      <td>114.901224</td>\n",
       "      <td>SLAB</td>\n",
       "    </tr>\n",
       "  </tbody>\n",
       "</table>\n",
       "<p>1260 rows × 8 columns</p>\n",
       "</div>"
      ],
      "text/plain": [
       "                            close     high      low  trade_count    open  \\\n",
       "timestamp                                                                  \n",
       "2022-10-12 04:00:00+00:00   46.64   48.190   46.435         8916   47.80   \n",
       "2022-10-13 04:00:00+00:00   47.63   47.835   43.960         7181   45.69   \n",
       "2022-10-14 04:00:00+00:00   51.07   51.670   47.540        17814   49.58   \n",
       "2022-10-17 04:00:00+00:00   49.46   52.515   49.090        11507   51.69   \n",
       "2022-10-18 04:00:00+00:00   51.21   51.890   49.815         9501   50.14   \n",
       "...                           ...      ...      ...          ...     ...   \n",
       "2023-10-06 04:00:00+00:00  115.12  115.800  112.040         6348  112.78   \n",
       "2023-10-09 04:00:00+00:00  114.26  115.150  112.895         6619  113.75   \n",
       "2023-10-10 04:00:00+00:00  116.66  117.480  114.320         5410  114.81   \n",
       "2023-10-11 04:00:00+00:00  116.06  117.050  115.200         5441  116.60   \n",
       "2023-10-12 04:00:00+00:00  114.78  116.175  113.500         7446  116.00   \n",
       "\n",
       "                           volume        vwap symbol  \n",
       "timestamp                                             \n",
       "2022-10-12 04:00:00+00:00  354276   47.242157   HRMY  \n",
       "2022-10-13 04:00:00+00:00  538904   47.092565   HRMY  \n",
       "2022-10-14 04:00:00+00:00  999595   50.423185   HRMY  \n",
       "2022-10-17 04:00:00+00:00  495121   50.026639   HRMY  \n",
       "2022-10-18 04:00:00+00:00  433888   51.056973   HRMY  \n",
       "...                           ...         ...    ...  \n",
       "2023-10-06 04:00:00+00:00  222851  114.945410   SLAB  \n",
       "2023-10-09 04:00:00+00:00  203272  114.282031   SLAB  \n",
       "2023-10-10 04:00:00+00:00  165045  116.639072   SLAB  \n",
       "2023-10-11 04:00:00+00:00  167248  115.912367   SLAB  \n",
       "2023-10-12 04:00:00+00:00  201080  114.901224   SLAB  \n",
       "\n",
       "[1260 rows x 8 columns]"
      ]
     },
     "execution_count": 84,
     "metadata": {},
     "output_type": "execute_result"
    }
   ],
   "source": [
    "# Get current closing prices for FB and TWTR\n",
    "df_portfolio = alpaca.get_bars(\n",
    "    tickers,\n",
    "    timeframe,\n",
    "    start = start,\n",
    "    end = end\n",
    ").df\n",
    "\n",
    "# Display sample data\n",
    "df_portfolio"
   ]
  },
  {
   "cell_type": "code",
   "execution_count": null,
   "metadata": {},
   "outputs": [],
   "source": []
  },
  {
   "cell_type": "code",
   "execution_count": 28,
   "metadata": {},
   "outputs": [],
   "source": [
    "# Reading data from 1st stock\n",
    "\"OM- Outset Medical \"\n",
    "\n"
   ]
  },
  {
   "cell_type": "code",
   "execution_count": 29,
   "metadata": {},
   "outputs": [],
   "source": [
    "# Reading data from 2nd stock\n",
    "\"HRMY- HARMONY BIOSCIENCES\""
   ]
  },
  {
   "cell_type": "code",
   "execution_count": 30,
   "metadata": {},
   "outputs": [],
   "source": [
    "# Reading data from 3rd stock\n",
    "'PMVP- PMV PHARMA'"
   ]
  },
  {
   "cell_type": "code",
   "execution_count": null,
   "metadata": {},
   "outputs": [],
   "source": [
    "'SAVA - CASSAVA SCIENCES'"
   ]
  },
  {
   "cell_type": "code",
   "execution_count": null,
   "metadata": {},
   "outputs": [],
   "source": [
    "'SLAB - SILICON LABORATORIES'"
   ]
  },
  {
   "cell_type": "code",
   "execution_count": 31,
   "metadata": {},
   "outputs": [],
   "source": [
    "# Combine all stocks in a single DataFrame\n",
    "\n",
    "\n",
    "\n",
    "\n",
    "\n",
    "\n"
   ]
  },
  {
   "cell_type": "code",
   "execution_count": 32,
   "metadata": {},
   "outputs": [],
   "source": [
    "# Reset Date index\n"
   ]
  },
  {
   "cell_type": "code",
   "execution_count": 33,
   "metadata": {},
   "outputs": [],
   "source": [
    "# Reorganize portfolio data by having a column per symbol\n"
   ]
  },
  {
   "cell_type": "code",
   "execution_count": 34,
   "metadata": {},
   "outputs": [],
   "source": [
    "# Calculate daily returns\n",
    "\n",
    "# Drop NAs\n",
    "\n",
    "# Display sample data\n"
   ]
  },
  {
   "cell_type": "markdown",
   "metadata": {},
   "source": [
    "## Calculate the weighted returns for the portfolio assuming an equal number of shares for each stock"
   ]
  },
  {
   "cell_type": "code",
   "execution_count": 35,
   "metadata": {},
   "outputs": [],
   "source": [
    "# Set weights\n",
    "weights = [1/5, 1/5, 1/5, 1/5, 1/5]\n",
    "\n",
    "# Calculate portfolio return\n",
    "\n",
    "# Higher Volalitity Portfolio (More risk, but potentially higher returns)\n",
    "initial_investment = 10000\n",
    "weights = [0.8, 0.2]                                           \n",
    "portfolio_returns = all_returns.dot(weights)                   # all of the stock percent changes times how much of each stock we have... weight\n",
    "cumulative_returns = (1 + portfolio_returns).cumprod()          #reinvesting proceeds and adding one dollar\n",
    "(initial_investment * cumulative_returns).plot()                # how our initial investment grows over time\n",
    "\n",
    "# Display sample data\n"
   ]
  },
  {
   "cell_type": "markdown",
   "metadata": {},
   "source": [
    "## Join your portfolio returns to the DataFrame that contains all of the portfolio returns"
   ]
  },
  {
   "cell_type": "code",
   "execution_count": 36,
   "metadata": {},
   "outputs": [],
   "source": [
    "# Join your returns DataFrame to the original returns DataFrame\n"
   ]
  },
  {
   "cell_type": "code",
   "execution_count": 37,
   "metadata": {},
   "outputs": [],
   "source": [
    "# Only compare dates where return data exists for all the stocks (drop NaNs)\n"
   ]
  },
  {
   "cell_type": "markdown",
   "metadata": {},
   "source": [
    "## Re-run the risk analysis with your portfolio to see how it compares to the others"
   ]
  },
  {
   "cell_type": "markdown",
   "metadata": {},
   "source": [
    "### Calculate the Annualized Standard Deviation"
   ]
  },
  {
   "cell_type": "code",
   "execution_count": 38,
   "metadata": {},
   "outputs": [],
   "source": [
    "# Calculate the annualized `std`\n"
   ]
  },
  {
   "cell_type": "markdown",
   "metadata": {},
   "source": [
    "### Calculate and plot rolling `std` with 21-day window"
   ]
  },
  {
   "cell_type": "code",
   "execution_count": 39,
   "metadata": {},
   "outputs": [],
   "source": [
    "# Calculate rolling standard deviation\n",
    "\n",
    "# Plot rolling standard deviation\n"
   ]
  },
  {
   "cell_type": "markdown",
   "metadata": {},
   "source": [
    "### Calculate and plot the correlation"
   ]
  },
  {
   "cell_type": "code",
   "execution_count": 40,
   "metadata": {},
   "outputs": [],
   "source": [
    "# Calculate and plot the correlation\n"
   ]
  },
  {
   "cell_type": "markdown",
   "metadata": {},
   "source": [
    "### Calculate and Plot Rolling 60-day Beta for Your Portfolio compared to the S&P 500"
   ]
  },
  {
   "cell_type": "code",
   "execution_count": 41,
   "metadata": {},
   "outputs": [],
   "source": [
    "# Calculate and plot Beta\n"
   ]
  },
  {
   "cell_type": "markdown",
   "metadata": {},
   "source": [
    "### Using the daily returns, calculate and visualize the Sharpe ratios using a bar plot"
   ]
  },
  {
   "cell_type": "code",
   "execution_count": 42,
   "metadata": {},
   "outputs": [],
   "source": [
    "# Calculate Annualized Sharpe Ratios\n"
   ]
  },
  {
   "cell_type": "code",
   "execution_count": 43,
   "metadata": {},
   "outputs": [],
   "source": [
    "# Visualize the sharpe ratios as a bar plot\n"
   ]
  },
  {
   "cell_type": "markdown",
   "metadata": {},
   "source": [
    "### How does your portfolio do?\n",
    "\n",
    "Write your answer here!"
   ]
  },
  {
   "cell_type": "code",
   "execution_count": null,
   "metadata": {},
   "outputs": [],
   "source": [
    "#Amazing, all short stocks at the perfect time, having hindsight on my side... I couldn't lose!!"
   ]
  }
 ],
 "metadata": {
  "file_extension": ".py",
  "kernelspec": {
   "display_name": "Python 3",
   "language": "python",
   "name": "python3"
  },
  "language_info": {
   "codemirror_mode": {
    "name": "ipython",
    "version": 3
   },
   "file_extension": ".py",
   "mimetype": "text/x-python",
   "name": "python",
   "nbconvert_exporter": "python",
   "pygments_lexer": "ipython3",
   "version": "3.11.5"
  },
  "mimetype": "text/x-python",
  "name": "python",
  "npconvert_exporter": "python",
  "pygments_lexer": "ipython3",
  "version": 3
 },
 "nbformat": 4,
 "nbformat_minor": 4
}
