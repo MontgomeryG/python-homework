{
 "cells": [
  {
   "cell_type": "markdown",
   "metadata": {},
   "source": [
    "* Financial Analysis\n"
   ]
  },
  {
   "cell_type": "code",
   "execution_count": 7,
   "metadata": {},
   "outputs": [],
   "source": [
    "import pandas as pd    # import necessary packages         \n",
    "import csv"
   ]
  },
  {
   "cell_type": "code",
   "execution_count": 8,
   "metadata": {},
   "outputs": [
    {
     "name": "stdout",
     "output_type": "stream",
     "text": [
      "Date             0.0\n",
      "Profit/Losses    0.0\n",
      "dtype: float64\n"
     ]
    },
    {
     "data": {
      "text/html": [
       "<div>\n",
       "<style scoped>\n",
       "    .dataframe tbody tr th:only-of-type {\n",
       "        vertical-align: middle;\n",
       "    }\n",
       "\n",
       "    .dataframe tbody tr th {\n",
       "        vertical-align: top;\n",
       "    }\n",
       "\n",
       "    .dataframe thead th {\n",
       "        text-align: right;\n",
       "    }\n",
       "</style>\n",
       "<table border=\"1\" class=\"dataframe\">\n",
       "  <thead>\n",
       "    <tr style=\"text-align: right;\">\n",
       "      <th></th>\n",
       "      <th>Date</th>\n",
       "      <th>Profit/Losses</th>\n",
       "    </tr>\n",
       "  </thead>\n",
       "  <tbody>\n",
       "    <tr>\n",
       "      <th>0</th>\n",
       "      <td>Jan-2010</td>\n",
       "      <td>867884</td>\n",
       "    </tr>\n",
       "    <tr>\n",
       "      <th>1</th>\n",
       "      <td>Feb-2010</td>\n",
       "      <td>984655</td>\n",
       "    </tr>\n",
       "    <tr>\n",
       "      <th>2</th>\n",
       "      <td>Mar-2010</td>\n",
       "      <td>322013</td>\n",
       "    </tr>\n",
       "    <tr>\n",
       "      <th>3</th>\n",
       "      <td>Apr-2010</td>\n",
       "      <td>-69417</td>\n",
       "    </tr>\n",
       "    <tr>\n",
       "      <th>4</th>\n",
       "      <td>May-2010</td>\n",
       "      <td>310503</td>\n",
       "    </tr>\n",
       "  </tbody>\n",
       "</table>\n",
       "</div>"
      ],
      "text/plain": [
       "       Date  Profit/Losses\n",
       "0  Jan-2010         867884\n",
       "1  Feb-2010         984655\n",
       "2  Mar-2010         322013\n",
       "3  Apr-2010         -69417\n",
       "4  May-2010         310503"
      ]
     },
     "execution_count": 8,
     "metadata": {},
     "output_type": "execute_result"
    }
   ],
   "source": [
    "pyBankData_csv = pd.read_csv('/Users/montygash/Desktop/FinTechWork/python-homework/python-homework/Module 2 Challenge/Starter_Code/PyBank/Resources/budget_data.csv')     # read data\n",
    "print(pyBankData_csv.isnull().mean() * 100)         # null value check\n",
    "pyBankData_csv = pyBankData_csv.drop_duplicates()   # drop duplicates\n",
    "pyBankData_csv.head()                               # preview data      "
   ]
  },
  {
   "cell_type": "code",
   "execution_count": 9,
   "metadata": {},
   "outputs": [
    {
     "data": {
      "text/html": [
       "<div>\n",
       "<style scoped>\n",
       "    .dataframe tbody tr th:only-of-type {\n",
       "        vertical-align: middle;\n",
       "    }\n",
       "\n",
       "    .dataframe tbody tr th {\n",
       "        vertical-align: top;\n",
       "    }\n",
       "\n",
       "    .dataframe thead th {\n",
       "        text-align: right;\n",
       "    }\n",
       "</style>\n",
       "<table border=\"1\" class=\"dataframe\">\n",
       "  <thead>\n",
       "    <tr style=\"text-align: right;\">\n",
       "      <th></th>\n",
       "      <th>0</th>\n",
       "      <th>1</th>\n",
       "    </tr>\n",
       "  </thead>\n",
       "  <tbody>\n",
       "    <tr>\n",
       "      <th>0</th>\n",
       "      <td>Jan</td>\n",
       "      <td>2010</td>\n",
       "    </tr>\n",
       "    <tr>\n",
       "      <th>1</th>\n",
       "      <td>Feb</td>\n",
       "      <td>2010</td>\n",
       "    </tr>\n",
       "    <tr>\n",
       "      <th>2</th>\n",
       "      <td>Mar</td>\n",
       "      <td>2010</td>\n",
       "    </tr>\n",
       "    <tr>\n",
       "      <th>3</th>\n",
       "      <td>Apr</td>\n",
       "      <td>2010</td>\n",
       "    </tr>\n",
       "    <tr>\n",
       "      <th>4</th>\n",
       "      <td>May</td>\n",
       "      <td>2010</td>\n",
       "    </tr>\n",
       "  </tbody>\n",
       "</table>\n",
       "</div>"
      ],
      "text/plain": [
       "     0     1\n",
       "0  Jan  2010\n",
       "1  Feb  2010\n",
       "2  Mar  2010\n",
       "3  Apr  2010\n",
       "4  May  2010"
      ]
     },
     "execution_count": 9,
     "metadata": {},
     "output_type": "execute_result"
    }
   ],
   "source": [
    "# The total number of months included in the dataset\n",
    "\n",
    "newDateGrid = pyBankData_csv[\"Date\"].str.split(\"-\", expand=True)          # isolate months\n",
    "\n",
    "newDateGrid.head()                                                        # visually check new dataframe\n"
   ]
  },
  {
   "cell_type": "code",
   "execution_count": 10,
   "metadata": {},
   "outputs": [
    {
     "name": "stdout",
     "output_type": "stream",
     "text": [
      "Total Months : 86\n"
     ]
    }
   ],
   "source": [
    "monthCount = newDateGrid[0].value_counts()                   # use function to how many of each months exist\n",
    "totalMonthCount = sum(monthCount)                            # use function to find the sum of the total number of months\n",
    "print(f\"Total Months : {totalMonthCount}\")              "
   ]
  },
  {
   "cell_type": "code",
   "execution_count": 11,
   "metadata": {},
   "outputs": [
    {
     "name": "stdout",
     "output_type": "stream",
     "text": [
      "Net Profit and Loss: $38382578\n"
     ]
    }
   ],
   "source": [
    "# The net total amount of Profit/Losses over the entire period\n",
    "\n",
    "netPnl = sum(pyBankData_csv[\"Profit/Losses\"])               # use \"sum\" function on P/L column to get net profits\n",
    "print(f\"Net Profit and Loss: ${netPnl}\")"
   ]
  },
  {
   "cell_type": "code",
   "execution_count": 12,
   "metadata": {},
   "outputs": [
    {
     "name": "stdout",
     "output_type": "stream",
     "text": [
      "Greatest Increase in Profits: Feb-2012 ($1926159)\n",
      "Greatest Decrease in Profits: Sep-2013 ($-2196167)\n"
     ]
    }
   ],
   "source": [
    "# The greatest increase in profits (date and amount) over the entire period\n",
    "\n",
    "# The greatest decrease in losses (date and amount) over the entire period\n",
    "\n",
    "maxPnlIncrease = 0                                  # variable for maximum increase\n",
    "maxPnlDecrease = 0                                  # variable for maximum decrease\n",
    "rowCount2 = 0                                       # counter variable\n",
    "maxDecreaseIndex = 0                                # index variable for location of maximum decrease\n",
    "maxIncreaseIndex = 0                                # index variable for location of maximum increase\n",
    "totalRows = len(newDateGrid)                        # variable representing the total rows in our data set\n",
    "\n",
    "for rowCount2 in range(totalRows - 1):                                      # loop iterating through the list of profits \"pnlList\"\n",
    "\n",
    "    element1 = pyBankData_csv[\"Profit/Losses\"][rowCount2]                   # creating two variables that represent 2 consecutive profits\n",
    "    element2 = pyBankData_csv[\"Profit/Losses\"][rowCount2 + 1]               # this variable will move from left to right through the list as we increment rowCount2\n",
    "\n",
    "    if element2 > element1:                                                 # increase in profits month-to-month condition\n",
    "        increase = abs(element2 - element1)\n",
    "        \n",
    "        if increase > maxPnlIncrease:                                       # if current increase is the greatest yet, set that increase as our new maximum increase\n",
    "            maxPnlIncrease = increase\n",
    "            maxIncreaseIndex = rowCount2 + 1                                # capturing the index of when we achieve a new maximum. +1 because we want the second month in the comparison,\n",
    "                                                                            # since we are moving forward through time.\n",
    "    \n",
    "\n",
    "    elif element2 < element1:                                               # decrease in profits month-to-month condition\n",
    "        decrease = abs(element2 - element1)\n",
    "\n",
    "        if decrease > maxPnlDecrease:                                       # if current decrease is the greatest yet, set that decrease as our new maximum decrease\n",
    "            maxPnlDecrease = decrease\n",
    "            maxDecreaseIndex = rowCount2 + 1                                # capture index of new minimum\n",
    "    \n",
    "    rowCount2 += 1                                                          # move one down in 'Profit/Losses' to the next comparison\n",
    "\n",
    "    \n",
    "            \n",
    "maxIncreaseDate = pyBankData_csv[\"Date\"][maxIncreaseIndex]                  # get dates of maximum increase/decrease with the saved index variables\n",
    "maxDecreaseDate = pyBankData_csv[\"Date\"][maxDecreaseIndex]\n",
    "\n",
    "\n",
    "print(f\"Greatest Increase in Profits: {maxIncreaseDate} (${maxPnlIncrease})\")       \n",
    "print(f\"Greatest Decrease in Profits: {maxDecreaseDate} ($-{maxPnlDecrease})\")"
   ]
  },
  {
   "cell_type": "code",
   "execution_count": 16,
   "metadata": {},
   "outputs": [
    {
     "name": "stdout",
     "output_type": "stream",
     "text": [
      "Average Change: $-2315.12\n"
     ]
    }
   ],
   "source": [
    "# The average of the changes in Profit/Losses over the entire period\n",
    "\n",
    "rowCount3 = 0                                               # initialize counter\n",
    "distList = []                                              # create a list where we will place the distance in profits between two consecutive months\n",
    "\n",
    "for rowCount3 in range(totalRows - 1):                          # iterate through until one less than our total rows,\n",
    "    element3 = pyBankData_csv[\"Profit/Losses\"][rowCount3]       # two elements to represent two consecutive month profits\n",
    "    element4 = pyBankData_csv[\"Profit/Losses\"][rowCount3 + 1]\n",
    "    distance1 = abs(element4-element3)                          # determine distance between two month profits\n",
    "\n",
    "    if element4 < element3:                                     # if second element is less than the first, that is a decrease,\n",
    "        distList.append((-1)*distance1)                         # we make the value negative to represent a decrease and add it to our list of distances.\n",
    "    else:                                                       # if second element is greater than or equal to the first, this is an increase or 0.\n",
    "        distList.append(distance1)                              # Therefore we add the distance to our distList as is; positive\n",
    "    rowCount3 += 1                                              # go to next comparison\n",
    "\n",
    "average = sum(distList)/(totalRows - 1)                         # find average of the distances\n",
    "averageRounded = average.round(2)                                      # round averages to 2 decimal places\n",
    "                                                         \n",
    "\n",
    "print(f\"Average Change: ${averageRounded}\")"
   ]
  }
 ],
 "metadata": {
  "kernelspec": {
   "display_name": "base",
   "language": "python",
   "name": "python3"
  },
  "language_info": {
   "codemirror_mode": {
    "name": "ipython",
    "version": 3
   },
   "file_extension": ".py",
   "mimetype": "text/x-python",
   "name": "python",
   "nbconvert_exporter": "python",
   "pygments_lexer": "ipython3",
   "version": "3.8.5"
  },
  "orig_nbformat": 4
 },
 "nbformat": 4,
 "nbformat_minor": 2
}
